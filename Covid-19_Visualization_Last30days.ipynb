{
 "cells": [
  {
   "cell_type": "code",
   "execution_count": 1,
   "metadata": {},
   "outputs": [],
   "source": [
    "import numpy as np \n",
    "import matplotlib.pyplot as plt \n",
    "import matplotlib.colors as mcolors\n",
    "import pandas as pd \n",
    "import random\n",
    "import math\n",
    "import time\n",
    "import xgboost\n",
    "from sklearn.linear_model import LinearRegression, BayesianRidge\n",
    "from sklearn.model_selection import RandomizedSearchCV, train_test_split\n",
    "from sklearn.preprocessing import PolynomialFeatures\n",
    "from sklearn.tree import DecisionTreeRegressor\n",
    "from sklearn.svm import SVR\n",
    "from sklearn.metrics import mean_squared_error, mean_absolute_error\n",
    "import datetime\n",
    "import operator "
   ]
  },
  {
   "cell_type": "code",
   "execution_count": 2,
   "metadata": {},
   "outputs": [],
   "source": [
    "confirmed_df = pd.read_csv('https://raw.githubusercontent.com/CSSEGISandData/COVID-19/master/csse_covid_19_data/csse_covid_19_time_series/time_series_covid19_confirmed_global.csv')\n",
    "deaths_df = pd.read_csv('https://raw.githubusercontent.com/CSSEGISandData/COVID-19/master/csse_covid_19_data/csse_covid_19_time_series/time_series_covid19_deaths_global.csv')\n",
    "recoveries_df = pd.read_csv('https://raw.githubusercontent.com/CSSEGISandData/COVID-19/master/csse_covid_19_data/csse_covid_19_time_series/time_series_covid19_recovered_global.csv')\n",
    "latest_data = pd.read_csv('https://raw.githubusercontent.com/CSSEGISandData/COVID-19/master/csse_covid_19_data/csse_covid_19_daily_reports/05-16-2020.csv')"
   ]
  },
  {
   "cell_type": "code",
   "execution_count": 3,
   "metadata": {},
   "outputs": [
    {
     "data": {
      "text/html": [
       "<div>\n",
       "<style scoped>\n",
       "    .dataframe tbody tr th:only-of-type {\n",
       "        vertical-align: middle;\n",
       "    }\n",
       "\n",
       "    .dataframe tbody tr th {\n",
       "        vertical-align: top;\n",
       "    }\n",
       "\n",
       "    .dataframe thead th {\n",
       "        text-align: right;\n",
       "    }\n",
       "</style>\n",
       "<table border=\"1\" class=\"dataframe\">\n",
       "  <thead>\n",
       "    <tr style=\"text-align: right;\">\n",
       "      <th></th>\n",
       "      <th>FIPS</th>\n",
       "      <th>Admin2</th>\n",
       "      <th>Province_State</th>\n",
       "      <th>Country_Region</th>\n",
       "      <th>Last_Update</th>\n",
       "      <th>Lat</th>\n",
       "      <th>Long_</th>\n",
       "      <th>Confirmed</th>\n",
       "      <th>Deaths</th>\n",
       "      <th>Recovered</th>\n",
       "      <th>Active</th>\n",
       "      <th>Combined_Key</th>\n",
       "    </tr>\n",
       "  </thead>\n",
       "  <tbody>\n",
       "    <tr>\n",
       "      <th>0</th>\n",
       "      <td>45001.0</td>\n",
       "      <td>Abbeville</td>\n",
       "      <td>South Carolina</td>\n",
       "      <td>US</td>\n",
       "      <td>2020-05-17 02:32:32</td>\n",
       "      <td>34.223334</td>\n",
       "      <td>-82.461707</td>\n",
       "      <td>34</td>\n",
       "      <td>0</td>\n",
       "      <td>0</td>\n",
       "      <td>34</td>\n",
       "      <td>Abbeville, South Carolina, US</td>\n",
       "    </tr>\n",
       "    <tr>\n",
       "      <th>1</th>\n",
       "      <td>22001.0</td>\n",
       "      <td>Acadia</td>\n",
       "      <td>Louisiana</td>\n",
       "      <td>US</td>\n",
       "      <td>2020-05-17 02:32:32</td>\n",
       "      <td>30.295065</td>\n",
       "      <td>-92.414197</td>\n",
       "      <td>192</td>\n",
       "      <td>11</td>\n",
       "      <td>0</td>\n",
       "      <td>181</td>\n",
       "      <td>Acadia, Louisiana, US</td>\n",
       "    </tr>\n",
       "    <tr>\n",
       "      <th>2</th>\n",
       "      <td>51001.0</td>\n",
       "      <td>Accomack</td>\n",
       "      <td>Virginia</td>\n",
       "      <td>US</td>\n",
       "      <td>2020-05-17 02:32:32</td>\n",
       "      <td>37.767072</td>\n",
       "      <td>-75.632346</td>\n",
       "      <td>668</td>\n",
       "      <td>9</td>\n",
       "      <td>0</td>\n",
       "      <td>659</td>\n",
       "      <td>Accomack, Virginia, US</td>\n",
       "    </tr>\n",
       "    <tr>\n",
       "      <th>3</th>\n",
       "      <td>16001.0</td>\n",
       "      <td>Ada</td>\n",
       "      <td>Idaho</td>\n",
       "      <td>US</td>\n",
       "      <td>2020-05-17 02:32:32</td>\n",
       "      <td>43.452658</td>\n",
       "      <td>-116.241552</td>\n",
       "      <td>773</td>\n",
       "      <td>22</td>\n",
       "      <td>0</td>\n",
       "      <td>751</td>\n",
       "      <td>Ada, Idaho, US</td>\n",
       "    </tr>\n",
       "    <tr>\n",
       "      <th>4</th>\n",
       "      <td>19001.0</td>\n",
       "      <td>Adair</td>\n",
       "      <td>Iowa</td>\n",
       "      <td>US</td>\n",
       "      <td>2020-05-17 02:32:32</td>\n",
       "      <td>41.330756</td>\n",
       "      <td>-94.471059</td>\n",
       "      <td>4</td>\n",
       "      <td>0</td>\n",
       "      <td>0</td>\n",
       "      <td>4</td>\n",
       "      <td>Adair, Iowa, US</td>\n",
       "    </tr>\n",
       "  </tbody>\n",
       "</table>\n",
       "</div>"
      ],
      "text/plain": [
       "      FIPS     Admin2  Province_State Country_Region          Last_Update  \\\n",
       "0  45001.0  Abbeville  South Carolina             US  2020-05-17 02:32:32   \n",
       "1  22001.0     Acadia       Louisiana             US  2020-05-17 02:32:32   \n",
       "2  51001.0   Accomack        Virginia             US  2020-05-17 02:32:32   \n",
       "3  16001.0        Ada           Idaho             US  2020-05-17 02:32:32   \n",
       "4  19001.0      Adair            Iowa             US  2020-05-17 02:32:32   \n",
       "\n",
       "         Lat       Long_  Confirmed  Deaths  Recovered  Active  \\\n",
       "0  34.223334  -82.461707         34       0          0      34   \n",
       "1  30.295065  -92.414197        192      11          0     181   \n",
       "2  37.767072  -75.632346        668       9          0     659   \n",
       "3  43.452658 -116.241552        773      22          0     751   \n",
       "4  41.330756  -94.471059          4       0          0       4   \n",
       "\n",
       "                    Combined_Key  \n",
       "0  Abbeville, South Carolina, US  \n",
       "1          Acadia, Louisiana, US  \n",
       "2         Accomack, Virginia, US  \n",
       "3                 Ada, Idaho, US  \n",
       "4                Adair, Iowa, US  "
      ]
     },
     "execution_count": 3,
     "metadata": {},
     "output_type": "execute_result"
    }
   ],
   "source": [
    "latest_data.head()"
   ]
  },
  {
   "cell_type": "code",
   "execution_count": 4,
   "metadata": {},
   "outputs": [
    {
     "data": {
      "text/plain": [
       "0       False\n",
       "1       False\n",
       "2       False\n",
       "3       False\n",
       "4       False\n",
       "        ...  \n",
       "3299    False\n",
       "3300    False\n",
       "3301    False\n",
       "3302    False\n",
       "3303    False\n",
       "Name: Country_Region, Length: 3304, dtype: bool"
      ]
     },
     "execution_count": 4,
     "metadata": {},
     "output_type": "execute_result"
    }
   ],
   "source": [
    "latest_data['Country_Region'] == \"Singapore\""
   ]
  },
  {
   "cell_type": "code",
   "execution_count": 5,
   "metadata": {},
   "outputs": [
    {
     "data": {
      "text/html": [
       "<div>\n",
       "<style scoped>\n",
       "    .dataframe tbody tr th:only-of-type {\n",
       "        vertical-align: middle;\n",
       "    }\n",
       "\n",
       "    .dataframe tbody tr th {\n",
       "        vertical-align: top;\n",
       "    }\n",
       "\n",
       "    .dataframe thead th {\n",
       "        text-align: right;\n",
       "    }\n",
       "</style>\n",
       "<table border=\"1\" class=\"dataframe\">\n",
       "  <thead>\n",
       "    <tr style=\"text-align: right;\">\n",
       "      <th></th>\n",
       "      <th>FIPS</th>\n",
       "      <th>Admin2</th>\n",
       "      <th>Province_State</th>\n",
       "      <th>Country_Region</th>\n",
       "      <th>Last_Update</th>\n",
       "      <th>Lat</th>\n",
       "      <th>Long_</th>\n",
       "      <th>Confirmed</th>\n",
       "      <th>Deaths</th>\n",
       "      <th>Recovered</th>\n",
       "      <th>Active</th>\n",
       "      <th>Combined_Key</th>\n",
       "    </tr>\n",
       "  </thead>\n",
       "  <tbody>\n",
       "    <tr>\n",
       "      <th>3270</th>\n",
       "      <td>NaN</td>\n",
       "      <td>NaN</td>\n",
       "      <td>NaN</td>\n",
       "      <td>Singapore</td>\n",
       "      <td>2020-05-17 02:32:32</td>\n",
       "      <td>1.2833</td>\n",
       "      <td>103.8333</td>\n",
       "      <td>27356</td>\n",
       "      <td>22</td>\n",
       "      <td>8342</td>\n",
       "      <td>18992</td>\n",
       "      <td>Singapore</td>\n",
       "    </tr>\n",
       "  </tbody>\n",
       "</table>\n",
       "</div>"
      ],
      "text/plain": [
       "      FIPS Admin2 Province_State Country_Region          Last_Update     Lat  \\\n",
       "3270   NaN    NaN            NaN      Singapore  2020-05-17 02:32:32  1.2833   \n",
       "\n",
       "         Long_  Confirmed  Deaths  Recovered  Active Combined_Key  \n",
       "3270  103.8333      27356      22       8342   18992    Singapore  "
      ]
     },
     "execution_count": 5,
     "metadata": {},
     "output_type": "execute_result"
    }
   ],
   "source": [
    "latest_data[latest_data['Country_Region'] == \"Singapore\"]"
   ]
  },
  {
   "cell_type": "code",
   "execution_count": 6,
   "metadata": {},
   "outputs": [
    {
     "data": {
      "text/plain": [
       "FIPS                              NaN\n",
       "Admin2                            NaN\n",
       "Province_State                    NaN\n",
       "Country_Region              Singapore\n",
       "Last_Update       2020-05-17 02:32:32\n",
       "Lat                            1.2833\n",
       "Long_                         103.833\n",
       "Confirmed                       27356\n",
       "Deaths                             22\n",
       "Recovered                        8342\n",
       "Active                          18992\n",
       "Combined_Key                Singapore\n",
       "Name: 3270, dtype: object"
      ]
     },
     "execution_count": 6,
     "metadata": {},
     "output_type": "execute_result"
    }
   ],
   "source": [
    "latest_data.iloc[3270]"
   ]
  },
  {
   "cell_type": "code",
   "execution_count": 7,
   "metadata": {},
   "outputs": [
    {
     "data": {
      "text/html": [
       "<div>\n",
       "<style scoped>\n",
       "    .dataframe tbody tr th:only-of-type {\n",
       "        vertical-align: middle;\n",
       "    }\n",
       "\n",
       "    .dataframe tbody tr th {\n",
       "        vertical-align: top;\n",
       "    }\n",
       "\n",
       "    .dataframe thead th {\n",
       "        text-align: right;\n",
       "    }\n",
       "</style>\n",
       "<table border=\"1\" class=\"dataframe\">\n",
       "  <thead>\n",
       "    <tr style=\"text-align: right;\">\n",
       "      <th></th>\n",
       "      <th>Province/State</th>\n",
       "      <th>Country/Region</th>\n",
       "      <th>Lat</th>\n",
       "      <th>Long</th>\n",
       "      <th>1/22/20</th>\n",
       "      <th>1/23/20</th>\n",
       "      <th>1/24/20</th>\n",
       "      <th>1/25/20</th>\n",
       "      <th>1/26/20</th>\n",
       "      <th>1/27/20</th>\n",
       "      <th>...</th>\n",
       "      <th>5/7/20</th>\n",
       "      <th>5/8/20</th>\n",
       "      <th>5/9/20</th>\n",
       "      <th>5/10/20</th>\n",
       "      <th>5/11/20</th>\n",
       "      <th>5/12/20</th>\n",
       "      <th>5/13/20</th>\n",
       "      <th>5/14/20</th>\n",
       "      <th>5/15/20</th>\n",
       "      <th>5/16/20</th>\n",
       "    </tr>\n",
       "  </thead>\n",
       "  <tbody>\n",
       "    <tr>\n",
       "      <th>0</th>\n",
       "      <td>NaN</td>\n",
       "      <td>Afghanistan</td>\n",
       "      <td>33.0000</td>\n",
       "      <td>65.0000</td>\n",
       "      <td>0</td>\n",
       "      <td>0</td>\n",
       "      <td>0</td>\n",
       "      <td>0</td>\n",
       "      <td>0</td>\n",
       "      <td>0</td>\n",
       "      <td>...</td>\n",
       "      <td>3563</td>\n",
       "      <td>3778</td>\n",
       "      <td>4033</td>\n",
       "      <td>4402</td>\n",
       "      <td>4687</td>\n",
       "      <td>4963</td>\n",
       "      <td>5226</td>\n",
       "      <td>5639</td>\n",
       "      <td>6053</td>\n",
       "      <td>6402</td>\n",
       "    </tr>\n",
       "    <tr>\n",
       "      <th>1</th>\n",
       "      <td>NaN</td>\n",
       "      <td>Albania</td>\n",
       "      <td>41.1533</td>\n",
       "      <td>20.1683</td>\n",
       "      <td>0</td>\n",
       "      <td>0</td>\n",
       "      <td>0</td>\n",
       "      <td>0</td>\n",
       "      <td>0</td>\n",
       "      <td>0</td>\n",
       "      <td>...</td>\n",
       "      <td>842</td>\n",
       "      <td>850</td>\n",
       "      <td>856</td>\n",
       "      <td>868</td>\n",
       "      <td>872</td>\n",
       "      <td>876</td>\n",
       "      <td>880</td>\n",
       "      <td>898</td>\n",
       "      <td>916</td>\n",
       "      <td>933</td>\n",
       "    </tr>\n",
       "    <tr>\n",
       "      <th>2</th>\n",
       "      <td>NaN</td>\n",
       "      <td>Algeria</td>\n",
       "      <td>28.0339</td>\n",
       "      <td>1.6596</td>\n",
       "      <td>0</td>\n",
       "      <td>0</td>\n",
       "      <td>0</td>\n",
       "      <td>0</td>\n",
       "      <td>0</td>\n",
       "      <td>0</td>\n",
       "      <td>...</td>\n",
       "      <td>5182</td>\n",
       "      <td>5369</td>\n",
       "      <td>5558</td>\n",
       "      <td>5723</td>\n",
       "      <td>5891</td>\n",
       "      <td>6067</td>\n",
       "      <td>6253</td>\n",
       "      <td>6442</td>\n",
       "      <td>6629</td>\n",
       "      <td>6821</td>\n",
       "    </tr>\n",
       "    <tr>\n",
       "      <th>3</th>\n",
       "      <td>NaN</td>\n",
       "      <td>Andorra</td>\n",
       "      <td>42.5063</td>\n",
       "      <td>1.5218</td>\n",
       "      <td>0</td>\n",
       "      <td>0</td>\n",
       "      <td>0</td>\n",
       "      <td>0</td>\n",
       "      <td>0</td>\n",
       "      <td>0</td>\n",
       "      <td>...</td>\n",
       "      <td>752</td>\n",
       "      <td>752</td>\n",
       "      <td>754</td>\n",
       "      <td>755</td>\n",
       "      <td>755</td>\n",
       "      <td>758</td>\n",
       "      <td>760</td>\n",
       "      <td>761</td>\n",
       "      <td>761</td>\n",
       "      <td>761</td>\n",
       "    </tr>\n",
       "    <tr>\n",
       "      <th>4</th>\n",
       "      <td>NaN</td>\n",
       "      <td>Angola</td>\n",
       "      <td>-11.2027</td>\n",
       "      <td>17.8739</td>\n",
       "      <td>0</td>\n",
       "      <td>0</td>\n",
       "      <td>0</td>\n",
       "      <td>0</td>\n",
       "      <td>0</td>\n",
       "      <td>0</td>\n",
       "      <td>...</td>\n",
       "      <td>36</td>\n",
       "      <td>43</td>\n",
       "      <td>43</td>\n",
       "      <td>45</td>\n",
       "      <td>45</td>\n",
       "      <td>45</td>\n",
       "      <td>45</td>\n",
       "      <td>48</td>\n",
       "      <td>48</td>\n",
       "      <td>48</td>\n",
       "    </tr>\n",
       "  </tbody>\n",
       "</table>\n",
       "<p>5 rows × 120 columns</p>\n",
       "</div>"
      ],
      "text/plain": [
       "  Province/State Country/Region      Lat     Long  1/22/20  1/23/20  1/24/20  \\\n",
       "0            NaN    Afghanistan  33.0000  65.0000        0        0        0   \n",
       "1            NaN        Albania  41.1533  20.1683        0        0        0   \n",
       "2            NaN        Algeria  28.0339   1.6596        0        0        0   \n",
       "3            NaN        Andorra  42.5063   1.5218        0        0        0   \n",
       "4            NaN         Angola -11.2027  17.8739        0        0        0   \n",
       "\n",
       "   1/25/20  1/26/20  1/27/20  ...  5/7/20  5/8/20  5/9/20  5/10/20  5/11/20  \\\n",
       "0        0        0        0  ...    3563    3778    4033     4402     4687   \n",
       "1        0        0        0  ...     842     850     856      868      872   \n",
       "2        0        0        0  ...    5182    5369    5558     5723     5891   \n",
       "3        0        0        0  ...     752     752     754      755      755   \n",
       "4        0        0        0  ...      36      43      43       45       45   \n",
       "\n",
       "   5/12/20  5/13/20  5/14/20  5/15/20  5/16/20  \n",
       "0     4963     5226     5639     6053     6402  \n",
       "1      876      880      898      916      933  \n",
       "2     6067     6253     6442     6629     6821  \n",
       "3      758      760      761      761      761  \n",
       "4       45       45       48       48       48  \n",
       "\n",
       "[5 rows x 120 columns]"
      ]
     },
     "execution_count": 7,
     "metadata": {},
     "output_type": "execute_result"
    }
   ],
   "source": [
    "confirmed_df.head()"
   ]
  },
  {
   "cell_type": "code",
   "execution_count": 8,
   "metadata": {},
   "outputs": [],
   "source": [
    "cols = confirmed_df.keys()"
   ]
  },
  {
   "cell_type": "code",
   "execution_count": 9,
   "metadata": {},
   "outputs": [],
   "source": [
    "confirmed = confirmed_df.loc[:, cols[4]:cols[-1]]\n",
    "deaths = deaths_df.loc[:, cols[4]:cols[-1]]\n",
    "recoveries = recoveries_df.loc[:, cols[4]:cols[-1]]"
   ]
  },
  {
   "cell_type": "code",
   "execution_count": 10,
   "metadata": {},
   "outputs": [],
   "source": [
    "dates = confirmed.keys()"
   ]
  },
  {
   "cell_type": "code",
   "execution_count": 11,
   "metadata": {},
   "outputs": [
    {
     "data": {
      "text/plain": [
       "Index(['1/22/20', '1/23/20', '1/24/20', '1/25/20', '1/26/20', '1/27/20',\n",
       "       '1/28/20', '1/29/20', '1/30/20', '1/31/20',\n",
       "       ...\n",
       "       '5/7/20', '5/8/20', '5/9/20', '5/10/20', '5/11/20', '5/12/20',\n",
       "       '5/13/20', '5/14/20', '5/15/20', '5/16/20'],\n",
       "      dtype='object', length=116)"
      ]
     },
     "execution_count": 11,
     "metadata": {},
     "output_type": "execute_result"
    }
   ],
   "source": [
    "dates"
   ]
  },
  {
   "cell_type": "code",
   "execution_count": 12,
   "metadata": {},
   "outputs": [],
   "source": [
    "singapore_cases = []\n",
    "singapore_deaths = []  \n",
    "singapore_recoveries = [] \n",
    "\n",
    "for i in dates:\n",
    "    \n",
    "    # confirmed cases\n",
    "    singapore_cases.append(confirmed_df[confirmed_df['Country/Region']=='Singapore'][i].sum())\n",
    "    \n",
    "    # deaths\n",
    "    singapore_deaths.append(deaths_df[deaths_df['Country/Region']=='Singapore'][i].sum())\n",
    "    \n",
    "    # recoveries\n",
    "    singapore_recoveries.append(recoveries_df[recoveries_df['Country/Region']=='Singapore'][i].sum())"
   ]
  },
  {
   "cell_type": "code",
   "execution_count": 13,
   "metadata": {},
   "outputs": [
    {
     "data": {
      "text/plain": [
       "[0,\n",
       " 0,\n",
       " 0,\n",
       " 0,\n",
       " 0,\n",
       " 0,\n",
       " 0,\n",
       " 0,\n",
       " 0,\n",
       " 0,\n",
       " 0,\n",
       " 0,\n",
       " 0,\n",
       " 0,\n",
       " 0,\n",
       " 0,\n",
       " 0,\n",
       " 2,\n",
       " 2,\n",
       " 2,\n",
       " 9,\n",
       " 15,\n",
       " 15,\n",
       " 17,\n",
       " 18,\n",
       " 18,\n",
       " 24,\n",
       " 29,\n",
       " 34,\n",
       " 34,\n",
       " 37,\n",
       " 37,\n",
       " 51,\n",
       " 51,\n",
       " 53,\n",
       " 62,\n",
       " 62,\n",
       " 62,\n",
       " 72,\n",
       " 72,\n",
       " 78,\n",
       " 78,\n",
       " 78,\n",
       " 78,\n",
       " 78,\n",
       " 78,\n",
       " 78,\n",
       " 78,\n",
       " 78,\n",
       " 96,\n",
       " 96,\n",
       " 97,\n",
       " 105,\n",
       " 105,\n",
       " 109,\n",
       " 114,\n",
       " 114,\n",
       " 114,\n",
       " 124,\n",
       " 140,\n",
       " 144,\n",
       " 144,\n",
       " 156,\n",
       " 160,\n",
       " 172,\n",
       " 183,\n",
       " 198,\n",
       " 212,\n",
       " 228,\n",
       " 240,\n",
       " 245,\n",
       " 266,\n",
       " 282,\n",
       " 297,\n",
       " 320,\n",
       " 344,\n",
       " 377,\n",
       " 406,\n",
       " 460,\n",
       " 492,\n",
       " 528,\n",
       " 560,\n",
       " 586,\n",
       " 611,\n",
       " 652,\n",
       " 683,\n",
       " 708,\n",
       " 740,\n",
       " 768,\n",
       " 801,\n",
       " 839,\n",
       " 896,\n",
       " 924,\n",
       " 956,\n",
       " 1002,\n",
       " 1060,\n",
       " 1095,\n",
       " 1128,\n",
       " 1188,\n",
       " 1244,\n",
       " 1268,\n",
       " 1347,\n",
       " 1408,\n",
       " 1457,\n",
       " 1519,\n",
       " 1634,\n",
       " 1712,\n",
       " 2040,\n",
       " 2296,\n",
       " 2721,\n",
       " 3225,\n",
       " 3851,\n",
       " 4809,\n",
       " 5973,\n",
       " 7248,\n",
       " 8342]"
      ]
     },
     "execution_count": 13,
     "metadata": {},
     "output_type": "execute_result"
    }
   ],
   "source": [
    "singapore_recoveries"
   ]
  },
  {
   "cell_type": "markdown",
   "metadata": {},
   "source": [
    "Get daily increase in confirmed cases, deaths and recoveries"
   ]
  },
  {
   "cell_type": "code",
   "execution_count": 14,
   "metadata": {},
   "outputs": [],
   "source": [
    "def daily_increase(data):\n",
    "    d = [] \n",
    "    for i in range(len(data)):\n",
    "        if i == 0:\n",
    "            d.append(data[0])\n",
    "        else:\n",
    "            d.append(data[i]-data[i-1])\n",
    "    return d\n",
    "\n",
    "# confirmed cases\n",
    "singapore_daily_increase = daily_increase(singapore_cases)\n",
    "\n",
    "# deaths\n",
    "singapore_daily_death = daily_increase(singapore_deaths)\n",
    "\n",
    "# recoveries\n",
    "singapore_daily_recovery = daily_increase(singapore_recoveries)"
   ]
  },
  {
   "cell_type": "code",
   "execution_count": 15,
   "metadata": {},
   "outputs": [
    {
     "data": {
      "text/plain": [
       "[0,\n",
       " 0,\n",
       " 0,\n",
       " 0,\n",
       " 0,\n",
       " 0,\n",
       " 0,\n",
       " 0,\n",
       " 0,\n",
       " 0,\n",
       " 0,\n",
       " 0,\n",
       " 0,\n",
       " 0,\n",
       " 0,\n",
       " 0,\n",
       " 0,\n",
       " 2,\n",
       " 0,\n",
       " 0,\n",
       " 7,\n",
       " 6,\n",
       " 0,\n",
       " 2,\n",
       " 1,\n",
       " 0,\n",
       " 6,\n",
       " 5,\n",
       " 5,\n",
       " 0,\n",
       " 3,\n",
       " 0,\n",
       " 14,\n",
       " 0,\n",
       " 2,\n",
       " 9,\n",
       " 0,\n",
       " 0,\n",
       " 10,\n",
       " 0,\n",
       " 6,\n",
       " 0,\n",
       " 0,\n",
       " 0,\n",
       " 0,\n",
       " 0,\n",
       " 0,\n",
       " 0,\n",
       " 0,\n",
       " 18,\n",
       " 0,\n",
       " 1,\n",
       " 8,\n",
       " 0,\n",
       " 4,\n",
       " 5,\n",
       " 0,\n",
       " 0,\n",
       " 10,\n",
       " 16,\n",
       " 4,\n",
       " 0,\n",
       " 12,\n",
       " 4,\n",
       " 12,\n",
       " 11,\n",
       " 15,\n",
       " 14,\n",
       " 16,\n",
       " 12,\n",
       " 5,\n",
       " 21,\n",
       " 16,\n",
       " 15,\n",
       " 23,\n",
       " 24,\n",
       " 33,\n",
       " 29,\n",
       " 54,\n",
       " 32,\n",
       " 36,\n",
       " 32,\n",
       " 26,\n",
       " 25,\n",
       " 41,\n",
       " 31,\n",
       " 25,\n",
       " 32,\n",
       " 28,\n",
       " 33,\n",
       " 38,\n",
       " 57,\n",
       " 28,\n",
       " 32,\n",
       " 46,\n",
       " 58,\n",
       " 35,\n",
       " 33,\n",
       " 60,\n",
       " 56,\n",
       " 24,\n",
       " 79,\n",
       " 61,\n",
       " 49,\n",
       " 62,\n",
       " 115,\n",
       " 78,\n",
       " 328,\n",
       " 256,\n",
       " 425,\n",
       " 504,\n",
       " 626,\n",
       " 958,\n",
       " 1164,\n",
       " 1275,\n",
       " 1094]"
      ]
     },
     "execution_count": 15,
     "metadata": {},
     "output_type": "execute_result"
    }
   ],
   "source": [
    "singapore_daily_recovery"
   ]
  },
  {
   "cell_type": "code",
   "execution_count": 16,
   "metadata": {},
   "outputs": [],
   "source": [
    "lastthirtydates = dates[len(dates)-30:-1]"
   ]
  },
  {
   "cell_type": "code",
   "execution_count": 17,
   "metadata": {},
   "outputs": [
    {
     "data": {
      "text/plain": [
       "Index(['4/17/20', '4/18/20', '4/19/20', '4/20/20', '4/21/20', '4/22/20',\n",
       "       '4/23/20', '4/24/20', '4/25/20', '4/26/20', '4/27/20', '4/28/20',\n",
       "       '4/29/20', '4/30/20', '5/1/20', '5/2/20', '5/3/20', '5/4/20', '5/5/20',\n",
       "       '5/6/20', '5/7/20', '5/8/20', '5/9/20', '5/10/20', '5/11/20', '5/12/20',\n",
       "       '5/13/20', '5/14/20', '5/15/20'],\n",
       "      dtype='object')"
      ]
     },
     "execution_count": 17,
     "metadata": {},
     "output_type": "execute_result"
    }
   ],
   "source": [
    "lastthirtydates"
   ]
  },
  {
   "cell_type": "code",
   "execution_count": 18,
   "metadata": {},
   "outputs": [],
   "source": [
    "# confirmed cases in the last thirty days\n",
    "singapore_cases = singapore_cases[len(dates)-30:-1]\n",
    "singapore_daily_increase = singapore_daily_increase[len(dates)-30:-1]\n",
    "\n",
    "# deaths in the last thirty days\n",
    "singapore_deaths = singapore_deaths[len(dates)-30:-1]\n",
    "singapore_daily_death = singapore_daily_death[len(dates)-30:-1]\n",
    "\n",
    "# recoveries in the last thirty days\n",
    "singapore_recoveries = singapore_recoveries[len(dates)-30:-1]\n",
    "singapore_daily_recovery = singapore_daily_recovery[len(dates)-30:-1]"
   ]
  },
  {
   "cell_type": "code",
   "execution_count": 19,
   "metadata": {},
   "outputs": [
    {
     "data": {
      "text/plain": [
       "[5050,\n",
       " 5992,\n",
       " 6588,\n",
       " 8014,\n",
       " 9125,\n",
       " 10141,\n",
       " 11178,\n",
       " 12075,\n",
       " 12693,\n",
       " 13624,\n",
       " 14423,\n",
       " 14951,\n",
       " 15641,\n",
       " 16169,\n",
       " 17101,\n",
       " 17548,\n",
       " 18205,\n",
       " 18778,\n",
       " 19410,\n",
       " 20198,\n",
       " 20939,\n",
       " 21707,\n",
       " 22460,\n",
       " 23336,\n",
       " 23822,\n",
       " 24671,\n",
       " 25346,\n",
       " 26098,\n",
       " 26891]"
      ]
     },
     "execution_count": 19,
     "metadata": {},
     "output_type": "execute_result"
    }
   ],
   "source": [
    "singapore_cases"
   ]
  },
  {
   "cell_type": "code",
   "execution_count": 20,
   "metadata": {},
   "outputs": [
    {
     "data": {
      "text/plain": [
       "[25,\n",
       " 32,\n",
       " 28,\n",
       " 33,\n",
       " 38,\n",
       " 57,\n",
       " 28,\n",
       " 32,\n",
       " 46,\n",
       " 58,\n",
       " 35,\n",
       " 33,\n",
       " 60,\n",
       " 56,\n",
       " 24,\n",
       " 79,\n",
       " 61,\n",
       " 49,\n",
       " 62,\n",
       " 115,\n",
       " 78,\n",
       " 328,\n",
       " 256,\n",
       " 425,\n",
       " 504,\n",
       " 626,\n",
       " 958,\n",
       " 1164,\n",
       " 1275]"
      ]
     },
     "execution_count": 20,
     "metadata": {},
     "output_type": "execute_result"
    }
   ],
   "source": [
    "singapore_daily_recovery"
   ]
  },
  {
   "cell_type": "code",
   "execution_count": 21,
   "metadata": {},
   "outputs": [],
   "source": [
    "# Dates till date of 'latest_data' dataset \n",
    "Current_dates = np.array([i for i in range(len(lastthirtydates))]).reshape(-1, 1)"
   ]
  },
  {
   "cell_type": "code",
   "execution_count": 22,
   "metadata": {},
   "outputs": [
    {
     "data": {
      "text/plain": [
       "array([[ 0],\n",
       "       [ 1],\n",
       "       [ 2],\n",
       "       [ 3],\n",
       "       [ 4],\n",
       "       [ 5],\n",
       "       [ 6],\n",
       "       [ 7],\n",
       "       [ 8],\n",
       "       [ 9],\n",
       "       [10],\n",
       "       [11],\n",
       "       [12],\n",
       "       [13],\n",
       "       [14],\n",
       "       [15],\n",
       "       [16],\n",
       "       [17],\n",
       "       [18],\n",
       "       [19],\n",
       "       [20],\n",
       "       [21],\n",
       "       [22],\n",
       "       [23],\n",
       "       [24],\n",
       "       [25],\n",
       "       [26],\n",
       "       [27],\n",
       "       [28]])"
      ]
     },
     "execution_count": 22,
     "metadata": {},
     "output_type": "execute_result"
    }
   ],
   "source": [
    "Current_dates"
   ]
  },
  {
   "cell_type": "markdown",
   "metadata": {},
   "source": [
    "Convert integer into datetime for better visualization"
   ]
  },
  {
   "cell_type": "code",
   "execution_count": 23,
   "metadata": {},
   "outputs": [],
   "source": [
    "start = '4/17/2020'\n",
    "start_date = datetime.datetime.strptime(start, '%m/%d/%Y')\n",
    "Current_dates_datetime = []\n",
    "for i in range(len(Current_dates)):\n",
    "    Current_dates_datetime.append((start_date + datetime.timedelta(days=i)).strftime('%d %b'))"
   ]
  },
  {
   "cell_type": "code",
   "execution_count": 24,
   "metadata": {},
   "outputs": [],
   "source": [
    "# Reshape array with 1 row\n",
    "Current_dates_datetime = np.array([i for i in Current_dates_datetime]).reshape(1, -1)[0]"
   ]
  },
  {
   "cell_type": "code",
   "execution_count": 34,
   "metadata": {},
   "outputs": [],
   "source": [
    "def country_plot(x, y1, y2, y3, y4, country):\n",
    "    plt.figure(figsize=(16, 9))\n",
    "    plt.plot(x, y1)\n",
    "    plt.title('{}: Confirmed Cases'.format(country), size=20)\n",
    "    plt.xlabel('Dates', size=20)\n",
    "    plt.ylabel('Number of Cases', size=20)\n",
    "    plt.xticks(list(np.arange(0,len(Current_dates_datetime),int(len(Current_dates_datetime)/8))),size=12)\n",
    "    plt.yticks(size=15)\n",
    "    plt.show()\n",
    "\n",
    "    plt.figure(figsize=(16, 9))\n",
    "    plt.bar(x, y2)\n",
    "    plt.title('{}: Daily New Confirmed Cases'.format(country), size=20)\n",
    "    plt.xlabel('Dates', size=20)\n",
    "    plt.ylabel('Number of Cases', size=20)\n",
    "    plt.xticks(list(np.arange(0,len(Current_dates_datetime),int(len(Current_dates_datetime)/8))),size=12)\n",
    "    plt.yticks(size=15)\n",
    "    plt.show()\n",
    "\n",
    "    plt.figure(figsize=(16, 9))\n",
    "    plt.bar(x, y3)\n",
    "    plt.title('{}: Deaths'.format(country), size=20)\n",
    "    plt.xlabel('Dates', size=20)\n",
    "    plt.ylabel('Number of Cases', size=20)\n",
    "    plt.xticks(list(np.arange(0,len(Current_dates_datetime),int(len(Current_dates_datetime)/8))),size=12)\n",
    "    plt.yticks(size=15)\n",
    "    plt.show()\n",
    "\n",
    "    plt.figure(figsize=(16, 9))\n",
    "    plt.bar(x, y4)\n",
    "    plt.title('{}: Daily Recovered Cases'.format(country), size=20)\n",
    "    plt.xlabel('Dates', size=20)\n",
    "    plt.ylabel('Number of Cases', size=20)\n",
    "    plt.xticks(list(np.arange(0,len(Current_dates_datetime),int(len(Current_dates_datetime)/8))),size=12)\n",
    "    plt.yticks(size=15)\n",
    "    plt.show()"
   ]
  },
  {
   "cell_type": "markdown",
   "metadata": {},
   "source": [
    "Singapore Visualization"
   ]
  },
  {
   "cell_type": "code",
   "execution_count": 35,
   "metadata": {},
   "outputs": [
    {
     "data": {
      "image/png": "[encoded data removed]",
      "text/plain": [
       "<Figure size 1152x648 with 1 Axes>"
      ]
     },
     "metadata": {
      "needs_background": "light"
     },
     "output_type": "display_data"
    },
    {
     "data": {
      "image/png": "[encoded data removed]",
      "text/plain": [
       "<Figure size 1152x648 with 1 Axes>"
      ]
     },
     "metadata": {
      "needs_background": "light"
     },
     "output_type": "display_data"
    },
    {
     "data": {
      "image/png": "[encoded data removed]",
      "text/plain": [
       "<Figure size 1152x648 with 1 Axes>"
      ]
     },
     "metadata": {
      "needs_background": "light"
     },
     "output_type": "display_data"
    },
    {
     "data": {
      "image/png": "[encoded data removed]",
      "text/plain": [
       "<Figure size 1152x648 with 1 Axes>"
      ]
     },
     "metadata": {
      "needs_background": "light"
     },
     "output_type": "display_data"
    }
   ],
   "source": [
    "country_plot(Current_dates_datetime, singapore_cases, singapore_daily_increase, singapore_daily_death, singapore_daily_recovery, 'Singapore')"
   ]
  },
  {
   "cell_type": "code",
   "execution_count": null,
   "metadata": {},
   "outputs": [],
   "source": []
  }
 ],
 "metadata": {
  "kernelspec": {
   "display_name": "Python 3",
   "language": "python",
   "name": "python3"
  },
  "language_info": {
   "codemirror_mode": {
    "name": "ipython",
    "version": 3
   },
   "file_extension": ".py",
   "mimetype": "text/x-python",
   "name": "python",
   "nbconvert_exporter": "python",
   "pygments_lexer": "ipython3",
   "version": "3.7.6"
  }
 },
 "nbformat": 4,
 "nbformat_minor": 4
}
